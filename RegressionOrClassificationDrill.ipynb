{
 "cells": [
  {
   "cell_type": "markdown",
   "metadata": {},
   "source": [
    "# Drill: Regression or classification\n",
    "\n",
    "# For each of the following situations, decide if you would model using a regression or classification model. Discuss your reasoning with your mentor next time you meet.\n",
    "    1. The amount a person will spend on a given site in the next 24 months.\n",
    "        -Regression. They are asking for a number not a category\n",
    "    2. What color car someone is going to buy.\n",
    "        -Classification. Asking for a category.\n",
    "    3. How many children a family will have.\n",
    "        -Regression. Asking for an amount of children.\n",
    "    4. If someone will sign up for a service.\n",
    "        -Classification. Categorical question\n",
    "    5. The number of times someone will get sick in a year.\n",
    "        -Regression. Asking for a number.\n",
    "    6. The probability someone will get sick in the next month.\n",
    "        -Classification. Asking for the probability of a categorical question\n",
    "    7. Which medicine will work best for a given patient.\n",
    "        -Classification. There is a finite number of medicines doctors can administer.\n"
   ]
  },
  {
   "cell_type": "code",
   "execution_count": null,
   "metadata": {
    "collapsed": true
   },
   "outputs": [],
   "source": []
  }
 ],
 "metadata": {
  "kernelspec": {
   "display_name": "Python 3",
   "language": "python",
   "name": "python3"
  },
  "language_info": {
   "codemirror_mode": {
    "name": "ipython",
    "version": 3
   },
   "file_extension": ".py",
   "mimetype": "text/x-python",
   "name": "python",
   "nbconvert_exporter": "python",
   "pygments_lexer": "ipython3",
   "version": "3.6.1"
  }
 },
 "nbformat": 4,
 "nbformat_minor": 2
}
